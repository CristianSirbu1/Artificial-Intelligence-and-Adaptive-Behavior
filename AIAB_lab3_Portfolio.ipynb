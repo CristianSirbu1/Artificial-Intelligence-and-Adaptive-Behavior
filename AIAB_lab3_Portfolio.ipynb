{
  "cells": [
    {
      "cell_type": "markdown",
      "metadata": {
        "id": "Mp7i_jzAKGPy"
      },
      "source": [
        "<h1><center><b> Acquired Intelligence & Adaptive Behaviour </b></center></h1>\n",
        "<h2><center><i>Evolving agents (Lab Sheet 03) </i></center></h2>\n",
        "\n",
        "In this sheet we will take what we learned in the first two sheets to evolve a neural network which controls some agent. Your goal is to apply the GA your developed in the previous labs to this agent. The sheet includes an example of a single hillclimber which doesnt do very well. Once you have something working then experiment with different networks and different tasks.\n",
        "\n",
        "We will be using the [`CartPole-v1`](https://gym.openai.com/envs/CartPole-v1/) task from `OpenAI` gym:\n",
        "\n",
        "\n",
        "<center><img src=\"https://gym.openai.com/videos/2019-10-21--mqt8Qj1mwo/CartPole-v1/poster.jpg\" width=\"300\"></center>\n",
        "\n",
        "> _A pole is attached by an un-actuated joint to a cart, which moves along a frictionless track. The system is controlled by applying a force of +1 or -1 to the cart. The pendulum starts upright, and the goal is to prevent it from falling over. A reward of +1 is provided for every timestep that the pole remains upright. The episode ends when the pole is more than 15 degrees from vertical, or the cart moves more than 2.4 units from the center._\n",
        "\n",
        "\n",
        "_If things stop working always try restarting the kernel, `opengl` does some strange things to Colab_\n",
        "\n"
      ]
    },
    {
      "cell_type": "markdown",
      "metadata": {
        "id": "4TmGVOnehoVT"
      },
      "source": [
        "## Imports\n",
        "(_We need to install some packages so we can render in Google colab_)"
      ]
    },
    {
      "cell_type": "code",
      "execution_count": null,
      "metadata": {
        "colab": {
          "base_uri": "https://localhost:8080/"
        },
        "id": "Ssnb-wmdEQKf",
        "outputId": "0b6d7850-8ce2-465e-bcb6-a7bdde065bf9"
      },
      "outputs": [
        {
          "output_type": "stream",
          "name": "stdout",
          "text": [
            "\r0% [Working]\r            \rGet:1 http://security.ubuntu.com/ubuntu bionic-security InRelease [88.7 kB]\n",
            "\r0% [Connecting to archive.ubuntu.com (185.125.190.36)] [1 InRelease 14.2 kB/88.\r                                                                               \rHit:2 https://developer.download.nvidia.com/compute/cuda/repos/ubuntu1804/x86_64  InRelease\n",
            "Hit:3 https://cloud.r-project.org/bin/linux/ubuntu bionic-cran40/ InRelease\n",
            "Hit:4 http://ppa.launchpad.net/c2d4u.team/c2d4u4.0+/ubuntu bionic InRelease\n",
            "Hit:5 http://archive.ubuntu.com/ubuntu bionic InRelease\n",
            "Ign:6 https://developer.download.nvidia.com/compute/machine-learning/repos/ubuntu1804/x86_64  InRelease\n",
            "Hit:7 https://developer.download.nvidia.com/compute/machine-learning/repos/ubuntu1804/x86_64  Release\n",
            "Get:8 http://archive.ubuntu.com/ubuntu bionic-updates InRelease [88.7 kB]\n",
            "Hit:9 http://ppa.launchpad.net/cran/libgit2/ubuntu bionic InRelease\n",
            "Hit:10 http://ppa.launchpad.net/deadsnakes/ppa/ubuntu bionic InRelease\n",
            "Get:11 http://archive.ubuntu.com/ubuntu bionic-backports InRelease [74.6 kB]\n",
            "Hit:12 http://ppa.launchpad.net/graphics-drivers/ppa/ubuntu bionic InRelease\n",
            "Fetched 252 kB in 2s (101 kB/s)\n",
            "Reading package lists... Done\n",
            "Reading package lists... Done\n",
            "Building dependency tree       \n",
            "Reading state information... Done\n",
            "xvfb is already the newest version (2:1.19.6-1ubuntu4.10).\n",
            "The following package was automatically installed and is no longer required:\n",
            "  libnvidia-common-460\n",
            "Use 'apt autoremove' to remove it.\n",
            "0 upgraded, 0 newly installed, 0 to remove and 48 not upgraded.\n"
          ]
        }
      ],
      "source": [
        "!apt-get update\n",
        "!apt install xvfb \n",
        "!apt-get install x11-utils > /dev/null 2>&1\n",
        "!apt-get install -y xvfb python-opengl > /dev/null 2>&1\n",
        "!pip install gym pyvirtualdisplay > /dev/null 2>&1"
      ]
    },
    {
      "cell_type": "code",
      "execution_count": null,
      "metadata": {
        "id": "K5oallqreVrz"
      },
      "outputs": [],
      "source": [
        "import os\n",
        "import shutil\n",
        "import random\n",
        "import copy\n",
        "import matplotlib.pyplot as plt\n",
        "from IPython import display as ipythondisplay\n",
        "\n",
        "import gym\n",
        "from gym import logger as gymlogger\n",
        "from gym.wrappers import Monitor\n",
        "import numpy as np\n",
        "import torch"
      ]
    },
    {
      "cell_type": "markdown",
      "metadata": {
        "id": "cYVg52CkqA18"
      },
      "source": [
        "## OpenAI gym\n",
        "\n",
        "Let's take a basic look at a `gym` agent loop. Here, we will just use random actions. The following envs which are relatively simple:\n",
        "\n",
        "- `Cartpole-v1`\n",
        "- `Acrobot-v1`\n",
        "- `MountainCar-v0`\n",
        "- `Pendulum-v0`\n",
        "\n",
        "Note each environment will accept different actions and observations (see the lecture). Some accept discrete (`int`) actions and observations, some accept continuous (`float`) actions and observations. Use `env.action_space` and `env.observation_space`.\n",
        "\n",
        "Here we will use `CartPole-v1`:"
      ]
    },
    {
      "cell_type": "code",
      "execution_count": null,
      "metadata": {
        "colab": {
          "base_uri": "https://localhost:8080/"
        },
        "id": "NWvGRsZbsPgA",
        "outputId": "71025e4e-55c1-4e0c-82c8-666a046f6527"
      },
      "outputs": [
        {
          "output_type": "stream",
          "name": "stdout",
          "text": [
            "Action space Discrete(2) \n",
            "Observation space Box(-3.4028234663852886e+38, 3.4028234663852886e+38, (4,), float32)\n"
          ]
        }
      ],
      "source": [
        "env_name = 'CartPole-v1'\n",
        "env = gym.make(env_name) # create the gym environment\n",
        "print(f\"Action space {env.action_space} \\nObservation space {env.observation_space}\")"
      ]
    },
    {
      "cell_type": "markdown",
      "metadata": {
        "id": "wm5vD5SIsxat"
      },
      "source": [
        "**Action:** This means that the environment accepts a single number as an action, which is a discrete number in $[0, 1]$. Here, 0 corresponds to 'push cart to the left' and 1 corresponds to 'push cart to the right'. But the whole point of the `gym` philosophy is that you don't need to know this. \n",
        "\n",
        "**Observation:** `Box` is a class from `gym`, it just means the observations will be wihtin some range (here -3.4 and 3.4), there will be 4 observations, and they will be continuous (`float32`). These 4 numbers corresponds to `\n",
        "\n",
        "- position of cart\n",
        "- velocity of cart\n",
        "- angle of pole \n",
        "- rotation rate of pole \n",
        "\n",
        "But we had to Google that, good general-purpose agents don't need to know the semantics of the observations: they can learn how to map observations to actions to maximize reward without any prior knowledge.\n",
        "\n",
        "Let's see how to run a `gym` environment. Two more concepts are needed here:\n",
        "\n",
        "**Reset**: When you are learning agents, you need to run simulations hundreds (or billions if you are Google) times. Rather than create a new `env` instance each time, we can call `env.reset()` at the start of each simulation. \n",
        "\n",
        "**Done**: `gym` will tell you if the the simulations has finished. For instance, if you have died, or the time limit has been reached. You can also end the simulation yourself, but generally you rely on what `gym` says. Each time you call `env.step()` (coverered below) `gym` will tell you whether the simulations is finished or not\n",
        "\n",
        "**Reward**: calling `env.step()` will also return how much reward you got for that time step. The amount of reward will vary for each environment, but all you need to know is that **more reward is better.** It will always a single floating point number. \n",
        "\n",
        "**Info**: `env.step()` also returns a dictionary called `info`. This sometimes contain additional information, but you can safely ignore it, \n",
        "\n",
        "**Step**: Brining this togetherm `env.step()` operates like this:\n",
        "\n",
        "```python\n",
        "obs, reward, done, info = env.step(action)\n",
        "```\n",
        "\n",
        "Here is an example ***(note I am just using random actions for now - there is no agent)***:"
      ]
    },
    {
      "cell_type": "code",
      "execution_count": null,
      "metadata": {
        "colab": {
          "base_uri": "https://localhost:8080/"
        },
        "id": "peBTi4jsqMNt",
        "outputId": "1b2d297a-e71a-404c-ee26-d300a68a592b"
      },
      "outputs": [
        {
          "output_type": "stream",
          "name": "stdout",
          "text": [
            "obs[ 0.04  0.22  0.03 -0.3 ] reward 1.0 action 1 done False info {}\n",
            "obs[ 0.05  0.02  0.02 -0.  ] reward 1.0 action 0 done False info {}\n",
            "obs[ 0.05  0.22  0.02 -0.29] reward 1.0 action 1 done False info {}\n",
            "obs[0.05 0.02 0.01 0.01] reward 1.0 action 0 done False info {}\n",
            "obs[ 0.05  0.22  0.01 -0.28] reward 1.0 action 1 done False info {}\n",
            "obs[ 0.05  0.41  0.01 -0.56] reward 1.0 action 1 done False info {}\n",
            "obs[ 0.06  0.61 -0.   -0.85] reward 1.0 action 1 done False info {}\n",
            "obs[ 0.08  0.8  -0.02 -1.15] reward 1.0 action 1 done False info {}\n",
            "obs[ 0.09  0.61 -0.04 -0.86] reward 1.0 action 0 done False info {}\n",
            "obs[ 0.1   0.41 -0.06 -0.58] reward 1.0 action 0 done False info {}\n",
            "obs[ 0.11  0.22 -0.07 -0.31] reward 1.0 action 0 done False info {}\n",
            "obs[ 0.12  0.02 -0.08 -0.04] reward 1.0 action 0 done False info {}\n",
            "obs[ 0.12  0.22 -0.08 -0.35] reward 1.0 action 1 done False info {}\n",
            "obs[ 0.12  0.42 -0.09 -0.67] reward 1.0 action 1 done False info {}\n",
            "obs[ 0.13  0.61 -0.1  -0.99] reward 1.0 action 1 done False info {}\n",
            "obs[ 0.14  0.81 -0.12 -1.31] reward 1.0 action 1 done False info {}\n",
            "obs[ 0.16  1.01 -0.14 -1.64] reward 1.0 action 1 done False info {}\n",
            "obs[ 0.18  0.81 -0.18 -1.39] reward 1.0 action 0 done False info {}\n",
            "obs[ 0.19  0.62 -0.21 -1.16] reward 1.0 action 0 done False info {}\n",
            "obs[ 0.21  0.82 -0.23 -1.51] reward 1.0 action 1 done True info {}\n"
          ]
        }
      ],
      "source": [
        "env_name = 'CartPole-v1'\n",
        "env = gym.make(env_name)\n",
        "\n",
        "env.reset()\n",
        "done = False\n",
        "while not done:\n",
        "    action = env.action_space.sample() # put agent here\n",
        "    obs, reward, done, info = env.step(action)\n",
        "    print(f\"obs{np.round(obs, 2)} reward {reward} action {action} done {done} info {info}\")"
      ]
    },
    {
      "cell_type": "markdown",
      "metadata": {
        "id": "FILWQ_m7w6gj"
      },
      "source": [
        "It's best practice to wrap a single episode (or simulation, run, whatever you want to call it) in a function. The function will take the agent which we will create below, and which will have a `get_action` function which will take the observations generated by the environment. This function then returns the total reward from that episode. It is a type of **fitness function**:"
      ]
    },
    {
      "cell_type": "code",
      "execution_count": null,
      "metadata": {
        "id": "d4CXnXekp_tP"
      },
      "outputs": [],
      "source": [
        "def run_episode(env, agent):\n",
        "    tot_reward = 0.0\n",
        "    obs = env.reset()\n",
        "    done = False\n",
        "    while not done:\n",
        "        action = agent.get_action(obs)\n",
        "        obs, reward, done, info = env.step(action)\n",
        "        tot_reward = tot_reward + reward\n",
        "    return tot_reward"
      ]
    },
    {
      "cell_type": "markdown",
      "metadata": {
        "id": "NHTwzNuBxgC6"
      },
      "source": [
        "## Visualising your agent\n",
        "\n",
        "It is normally very simple to visualise your simulations. But Google Colab makes it very hard. Here, we have provided a wrapper function which will visualise your episode. You don't need to understand it, and it's slow, so don't use it during learning (use it to view your agent after learning). \n",
        "\n",
        "Passing an agent to the function is optional. If you don't pass an agent, it selects actions at random"
      ]
    },
    {
      "cell_type": "code",
      "execution_count": null,
      "metadata": {
        "colab": {
          "base_uri": "https://localhost:8080/",
          "height": 298
        },
        "id": "9qQLG9ZSx4b3",
        "outputId": "1a8922ea-6547-4c29-dea3-19bdc80869bd"
      },
      "outputs": [
        {
          "output_type": "execute_result",
          "data": {
            "text/plain": [
              "13.0"
            ]
          },
          "metadata": {},
          "execution_count": 9
        },
        {
          "output_type": "display_data",
          "data": {
            "text/plain": [
              "<Figure size 432x288 with 1 Axes>"
            ],
            "image/png": "[encoded data removed]"
          },
          "metadata": {
            "needs_background": "light"
          }
        }
      ],
      "source": [
        "def visual_episode(env, agent=None):\n",
        "    from pyvirtualdisplay import Display\n",
        "    display = Display(visible=0, size=(400, 300))\n",
        "    display.start()\n",
        "    prev_screen = env.render(mode='rgb_array')\n",
        "    plt.imshow(prev_screen)\n",
        "\n",
        "    tot_reward = 0.0\n",
        "    obs = env.reset()\n",
        "    done = False\n",
        "    curr_t = 0\n",
        "    while not done:\n",
        "        if agent is not None:\n",
        "            action = agent.get_action(obs)\n",
        "        else:\n",
        "            action = env.action_space.sample()\n",
        "        obs, reward, done, info = env.step(action)\n",
        "        screen = env.render(mode='rgb_array')\n",
        "        tot_reward = tot_reward + reward\n",
        "\n",
        "        plt.imshow(screen)\n",
        "        plt.title(curr_t)\n",
        "        ipythondisplay.clear_output(wait=True)\n",
        "        ipythondisplay.display(plt.gcf())\n",
        "        curr_t = curr_t + 1\n",
        "\n",
        "    ipythondisplay.clear_output(wait=True)\n",
        "    env.close()\n",
        "    return tot_reward\n",
        "\n",
        "# This is the function call\n",
        "visual_episode(env)"
      ]
    },
    {
      "cell_type": "markdown",
      "metadata": {
        "id": "yml_dzbGZrad"
      },
      "source": [
        "### Savind the simulation frames\n",
        "Alternatively instead of displaying the frames on Google colab you can save them in a folder here and download them later.\n",
        "You can look for the folder on the left hand sidebar. "
      ]
    },
    {
      "cell_type": "code",
      "execution_count": null,
      "metadata": {
        "colab": {
          "base_uri": "https://localhost:8080/",
          "height": 281
        },
        "id": "qEtjn8YzVXaA",
        "outputId": "5418b165-fcb2-4eda-b107-f5d5d6994880"
      },
      "outputs": [
        {
          "output_type": "display_data",
          "data": {
            "text/plain": [
              "<Figure size 432x288 with 1 Axes>"
            ],
            "image/png": "[encoded data removed]"
          },
          "metadata": {
            "needs_background": "light"
          }
        }
      ],
      "source": [
        "def save_vis(env, agent=None, dirname='sim_frames'):\n",
        "    if os.path.isdir(dirname):\n",
        "      shutil.rmtree(dirname)\n",
        "    os.makedirs(dirname, exist_ok=True)\n",
        "    tot_reward = 0.0\n",
        "    obs = env.reset()\n",
        "    done = False\n",
        "    curr_t = 0\n",
        "    while not done:\n",
        "        if agent is not None:\n",
        "            action = agent.get_action(obs)\n",
        "        else:\n",
        "            action = env.action_space.sample()\n",
        "        obs, reward, done, info = env.step(action)\n",
        "        screen = env.render(mode='rgb_array')\n",
        "        tot_reward = tot_reward + reward\n",
        "        plt.imshow(screen)\n",
        "        plt.title(curr_t)\n",
        "        plt.savefig(os.path.join(dirname, 'fig{}'.format(curr_t)))\n",
        "        curr_t += 1\n",
        "\n",
        "# This is the function call\n",
        "save_vis(env)"
      ]
    },
    {
      "cell_type": "markdown",
      "metadata": {
        "id": "v8qLU5Bmhp5p"
      },
      "source": [
        "## Agent\n",
        "\n",
        "We can now move on to the idea of agents. We will need to make a way to map genotypes to agents. Our agents will use neural networks to select actions, so a natural method is to have the genes encode the weights and biases of your neural network.\n",
        "\n",
        "Our agent will take the number of inputs (the number of observations from the environment) and map it to the number of outputs (in this case, a single action).\n",
        "\n",
        "We will use the `set_gene` function to map a list of floats (our genes) of length `num_genes` (see the `Agent` class) to a set of weights and biases.\n",
        "\n",
        "The output of this neural network will be a continuous. We will therefore map the number to a discrete output (0 or 1) by thresholding.\n",
        "The rest of this class should be familiar from the previous work sheets.\n",
        "\n"
      ]
    },
    {
      "cell_type": "code",
      "execution_count": null,
      "metadata": {
        "id": "Ln93lnSoesE_"
      },
      "outputs": [],
      "source": [
        "class Agent:\n",
        "    def __init__(self, num_input, num_output):\n",
        "        self.num_input = num_input \n",
        "        self.num_output = num_output\n",
        "        self.num_genes = num_input * num_output + num_output\n",
        "        self.weights = None\n",
        "        self.bias = None\n",
        "\n",
        "    def set_genes(self, gene):\n",
        "        weight_idxs = self.num_input * self.num_output\n",
        "        bias_idxs = self.num_input * self.num_output + self.num_output\n",
        "        w = gene[0 : weight_idxs].reshape(self.num_output, self.num_input)   \n",
        "        b = gene[weight_idxs: bias_idxs].reshape(self.num_output,)\n",
        "        self.weights = torch.from_numpy(w)\n",
        "        self.bias = torch.from_numpy(b)\n",
        "\n",
        "    def forward(self, x):\n",
        "        x = torch.from_numpy(x).unsqueeze(0)\n",
        "        return torch.mm(x, self.weights.T) + self.bias\n",
        "\n",
        "    def get_action(self, x):\n",
        "        if self.forward(x) > 0:\n",
        "            return 1\n",
        "        else:\n",
        "            return 0"
      ]
    },
    {
      "cell_type": "markdown",
      "metadata": {
        "id": "N2uQvWniDBAL"
      },
      "source": [
        "Creating our agent is simple:"
      ]
    },
    {
      "cell_type": "code",
      "execution_count": null,
      "metadata": {
        "id": "wHBFJLgJDDho"
      },
      "outputs": [],
      "source": [
        "num_obs = 4 # depends on your environment\n",
        "num_actions = 1 # depends on your environment\n",
        "agent = Agent(num_obs, num_actions)"
      ]
    },
    {
      "cell_type": "markdown",
      "metadata": {
        "id": "Foxu9W5WlZI4"
      },
      "source": [
        "## Learning your agent\n",
        "\n",
        "We now need a way to change our genes in order to maximise reward. We will use the GA method, and you are encouraged to try different variants.\n",
        "\n",
        "We can encode the populations of genes in the same way as previous weeks, The `Agent` class has a field called `num_genes`, this is how many genes you need. \n",
        "\n",
        "**Note that our gene are now continuous valued numbers, unlike last week**"
      ]
    },
    {
      "cell_type": "code",
      "execution_count": null,
      "metadata": {
        "colab": {
          "base_uri": "https://localhost:8080/"
        },
        "id": "ueirAmnAC63K",
        "outputId": "6bab5593-30ce-4642-9724-32d3aaa7841d"
      },
      "outputs": [
        {
          "output_type": "stream",
          "name": "stdout",
          "text": [
            "15 individuals in population, 5 genes per individual\n"
          ]
        }
      ],
      "source": [
        "num_obs = 4 \n",
        "num_actions = 1 \n",
        "agent = Agent(num_obs, num_actions)\n",
        "\n",
        "pop_size = 15\n",
        "num_genes = agent.num_genes\n",
        "gene_pop = np.random.normal(0, 0.1, (pop_size, num_genes))\n",
        "# gene_pop = np.zeros((pop_size, num_genes))\n",
        "print(f\"{gene_pop.shape[0]} individuals in population, {gene_pop.shape[1]} genes per individual\")"
      ]
    },
    {
      "cell_type": "markdown",
      "metadata": {
        "id": "ODvof3A6GOAZ"
      },
      "source": [
        "## Fitness function\n",
        "\n",
        "We want to maximise the reward from running our simulations. For each genotype in our population, we map it to an agent, evaluate its reward, and return a list of rewards for each agent. "
      ]
    },
    {
      "cell_type": "code",
      "execution_count": null,
      "metadata": {
        "id": "stNkZTSpGQTA"
      },
      "outputs": [],
      "source": [
        "def fitness_function(env, agent, gene_pop):\n",
        "    # Get fitness for each gene\n",
        "    pop_size = gene_pop.shape[0]\n",
        "    pop_fitness = np.zeros(pop_size)\n",
        "    for i, gene in enumerate(gene_pop):\n",
        "        agent.set_genes(gene)\n",
        "        pop_fitness[i] = run_episode(env, agent)\n",
        "    return pop_fitness"
      ]
    },
    {
      "cell_type": "markdown",
      "metadata": {
        "id": "B7TGqVvUHmRV"
      },
      "source": [
        "## Mutation \n",
        "\n",
        "We need some method for making mutations to genes. Below is an extremely simple example where we just add Gaussian noise, but we suggest you explore better methods"
      ]
    },
    {
      "cell_type": "code",
      "execution_count": null,
      "metadata": {
        "id": "0ug9iYMKH4JX"
      },
      "outputs": [],
      "source": [
        "def mutation_function(gene_pop, mean=0, std=0.1):\n",
        "    gene_pop = np.copy(gene_pop)\n",
        "    for i, gene in enumerate(gene_pop):\n",
        "        gene_pop[i] = gene_pop[i] + np.random.normal(mean, std, size=gene.shape)\n",
        "    # constraint\n",
        "    gene_pop[gene_pop > 4] = 4\n",
        "    gene_pop[gene_pop < -4] = -4\n",
        "\n",
        "    return gene_pop"
      ]
    },
    {
      "cell_type": "markdown",
      "metadata": {
        "id": "2ssn4fOAIt8T"
      },
      "source": [
        "## Selection\n",
        "\n",
        "We also need some way to determine whether our mutation was benefical. Below is a simple function which takes the mutated value if it was an improvement, otherwise keeps the original value"
      ]
    },
    {
      "cell_type": "code",
      "execution_count": null,
      "metadata": {
        "id": "c0jb4Yk6JAAK"
      },
      "outputs": [],
      "source": [
        "def select_genes(prev_gene_pop, gene_pop, prev_fitness, fitness):\n",
        "    new_gene_pop = np.zeros_like(gene_pop)\n",
        "    for i, gene in enumerate(gene_pop): \n",
        "        if fitness[i] >= prev_fitness[i]: \n",
        "            new_gene_pop[i] = gene_pop[i]\n",
        "        else:\n",
        "            new_gene_pop[i] = prev_gene_pop[i]\n",
        "\n",
        "    return new_gene_pop"
      ]
    },
    {
      "cell_type": "markdown",
      "metadata": {
        "id": "lEkEX5vSqYLp"
      },
      "source": [
        "# Best genotype\n",
        "\n",
        "A function to get the best gene from a population. You may want to use that after the GA has run and you need to visualise the result."
      ]
    },
    {
      "cell_type": "code",
      "execution_count": null,
      "metadata": {
        "id": "K80uEWJQqbqv"
      },
      "outputs": [],
      "source": [
        "def get_best_gene(gene_pop, fitness):\n",
        "    i = np.argmax(fitness)\n",
        "    return gene_pop[i]"
      ]
    },
    {
      "cell_type": "markdown",
      "metadata": {
        "id": "MeDUuWKWKl_7"
      },
      "source": [
        "## Hill climbing"
      ]
    },
    {
      "cell_type": "code",
      "execution_count": null,
      "metadata": {
        "colab": {
          "base_uri": "https://localhost:8080/"
        },
        "id": "LRnXfeg9E1ma",
        "outputId": "6386a490-eccf-46bf-c3aa-a89abaede4dd"
      },
      "outputs": [
        {
          "output_type": "stream",
          "name": "stdout",
          "text": [
            "Mean fitness of population 51.333333333333336\n",
            "Max fitness of population 500.0\n",
            "Mean fitness of population 92.8\n",
            "Max fitness of population 500.0\n",
            "Mean fitness of population 124.86666666666666\n",
            "Max fitness of population 500.0\n",
            "Mean fitness of population 117.06666666666666\n",
            "Max fitness of population 500.0\n",
            "Mean fitness of population 122.2\n",
            "Max fitness of population 500.0\n",
            "Mean fitness of population 116.53333333333333\n",
            "Max fitness of population 500.0\n",
            "Mean fitness of population 156.8\n",
            "Max fitness of population 500.0\n",
            "Mean fitness of population 172.2\n",
            "Max fitness of population 500.0\n",
            "Mean fitness of population 185.13333333333333\n",
            "Max fitness of population 500.0\n",
            "Mean fitness of population 223.86666666666667\n",
            "Max fitness of population 500.0\n"
          ]
        }
      ],
      "source": [
        "# Parameters\n",
        "epochs, pop_size, mutation_std = 1000, 15, 0.01\n",
        "num_obs, num_actions = 4, 1 \n",
        "\n",
        "# Create our agent\n",
        "agent = Agent(num_obs, num_actions)\n",
        "\n",
        "# Create our gene population\n",
        "gene_pop = np.random.normal(0, 0.1, (pop_size, agent.num_genes))\n",
        "\n",
        "# Get init fitness of the population\n",
        "fitness = fitness_function(env, agent, gene_pop)\n",
        "\n",
        "prev_fitness = fitness\n",
        "prev_gene_pop = gene_pop\n",
        "\n",
        "# Main loop\n",
        "for epoch in range(epochs):\n",
        "    # Mutate our population\n",
        "    gene_pop = mutation_function(prev_gene_pop, std=mutation_std)\n",
        "\n",
        "    # Get fitness of the mutated population\n",
        "    fitness = fitness_function(env, agent, gene_pop)\n",
        "\n",
        "    # Apply selection \n",
        "    gene_pop = select_genes(prev_gene_pop, gene_pop, prev_fitness, fitness)\n",
        "\n",
        "    # Evaluated the fitness of the selected population\n",
        "    prev_fitness = fitness_function(env, agent, gene_pop)\n",
        "    prev_gene_pop = gene_pop\n",
        "\n",
        "    if epoch % 100 == 0:\n",
        "        print(f\"Mean fitness of population {fitness.mean()}\")\n",
        "        print(f\"Max fitness of population {fitness.max()}\")"
      ]
    },
    {
      "cell_type": "markdown",
      "metadata": {
        "id": "yQvDjqN1O_Ub"
      },
      "source": [
        "## Visualise agent"
      ]
    },
    {
      "cell_type": "code",
      "execution_count": null,
      "metadata": {
        "id": "DSUeSsDCPCyp"
      },
      "outputs": [],
      "source": [
        "# Visualise our agent or save frames to file\n",
        "best_gene = get_best_gene(gene_pop, fitness)\n",
        "agent.set_genes(best_gene)\n",
        "visual_episode(env, agent)\n",
        "save_vis(env, agent)"
      ]
    },
    {
      "cell_type": "code",
      "execution_count": null,
      "metadata": {
        "id": "dp54M_kcpvI8"
      },
      "outputs": [],
      "source": [
        "### Creaeting the Agent Class\n",
        "class Agent:\n",
        "    def __init__(self, num_input, num_output):\n",
        "        self.num_input = num_input \n",
        "        self.num_output = num_output\n",
        "        self.num_genes = num_input * num_output + num_output\n",
        "        self.weights = None\n",
        "        self.bias = None\n",
        "\n",
        "    def set_genes(self, gene):\n",
        "        weight_idxs = self.num_input * self.num_output\n",
        "        bias_idxs = self.num_input * self.num_output + self.num_output\n",
        "        w = gene[0 : weight_idxs].reshape(self.num_output, self.num_input)   \n",
        "        b = gene[weight_idxs: bias_idxs].reshape(self.num_output,)\n",
        "        self.weights = torch.from_numpy(w)\n",
        "        self.bias = torch.from_numpy(b)\n",
        "\n",
        "    def forward(self, x):\n",
        "        x = torch.from_numpy(x).unsqueeze(0)\n",
        "        return torch.mm(x, self.weights.T) + self.bias\n",
        "\n",
        "    def get_action(self, x):\n",
        "        if self.forward(x) > 0:\n",
        "            return 1\n",
        "        else:\n",
        "            return 0"
      ]
    },
    {
      "cell_type": "code",
      "source": [
        "def sigmoid(z):\n",
        "    return 1/(1+np.exp(-z))\n",
        "    \n",
        "def fitness_function(env, agent, gene_pop):\n",
        "    # Get fitness for each gene\n",
        "    pop_size = gene_pop.shape[0]\n",
        "    pop_fitness = np.zeros(pop_size)\n",
        "    for i, gene in enumerate(gene_pop):\n",
        "        agent.set_genes(gene)\n",
        "        pop_fitness[i] = run_episode(env, agent)\n",
        "    return pop_fitness\n",
        "\n",
        "# tournament selection\n",
        "def selection(pop, fit_value,k):\n",
        "\n",
        "    #choose random point\n",
        "    point=random.randint(0, len(pop)-1-k)\n",
        "    # Pick individuals for tournament\n",
        "    fighter1 = point\n",
        "    fighter2 = random.randint(point+1, point+k)\n",
        "    \n",
        "    # Get fitness value for each\n",
        "    fighter1_fitness = fit_value[fighter1]\n",
        "    fighter2_fitness = fit_value[fighter2]\n",
        "    \n",
        "    # Identify undividual with highest fitness\n",
        "    # Fighter 1 will win if score are equal\n",
        "    if fighter1_fitness >= fighter2_fitness:\n",
        "      winner_index = fighter1\n",
        "      loser_index = fighter2\n",
        "    else:\n",
        "      winner_index = fighter2\n",
        "      loser_index = fighter1\n",
        "    \n",
        "    # Return the winner,loser and index\n",
        "    return winner_index, loser_index\n",
        " \n",
        "# crossover two parents to create two children\n",
        "def crossover(winner,loser, pc):\n",
        "  \n",
        "\t\t# check for a crossover\n",
        "  if np.random.rand() > pc:\n",
        "\t\t\t# Copy each gene of the winner W to the L\n",
        "    loser = winner\n",
        "      \n",
        "  return loser\n",
        "\t\n",
        "# mutation with flipping the number\n",
        "\n",
        "def mutation(gene_pop,pm, mean=0, std=0.1):\n",
        "  if np.random.rand() < pm:\n",
        "    for i, gene in enumerate(gene_pop):\n",
        "        gene_pop[i] = gene_pop[i] + np.random.normal(mean, std, size=gene.shape)\n",
        "    # constraint\n",
        "    gene_pop[gene_pop > 4] = 4\n",
        "    gene_pop[gene_pop < -4] = -4\n",
        "\n",
        "    return gene_pop\n",
        "\n",
        "def get_best_gene(gene_pop, fitness):\n",
        "    i = np.argmax(fitness)\n",
        "    return gene_pop[i]"
      ],
      "metadata": {
        "id": "j7RRSxeaw0iy"
      },
      "execution_count": null,
      "outputs": []
    },
    {
      "cell_type": "code",
      "source": [
        "# Parameters\n",
        "epochs = 1500\n",
        "num_obs, num_actions = 4, 1\n",
        "maxPop =  50 # number of chromosome\n",
        "pc = 0.5\t\t\t# crossover probability\n",
        "pm = 0.05     # mutation probability\n",
        "k=2    #pick a competitor from the local neighbourhood in the range k\n",
        "results = []\t\t# store results\n",
        "fit_value = []\t\t# fitness for each individual"
      ],
      "metadata": {
        "id": "EWUNlbAyw3kU"
      },
      "execution_count": null,
      "outputs": []
    },
    {
      "cell_type": "code",
      "source": [
        "# Create our agent\n",
        "agent = Agent(num_obs, num_actions)"
      ],
      "metadata": {
        "id": "8YVS5jMKw6YJ"
      },
      "execution_count": null,
      "outputs": []
    },
    {
      "cell_type": "code",
      "source": [
        "# Create our gene population\n",
        "pop = np.random.normal(0, 0.1, (maxPop, agent.num_genes))"
      ],
      "metadata": {
        "id": "95Nw5Uy2w9Ra"
      },
      "execution_count": null,
      "outputs": []
    },
    {
      "cell_type": "code",
      "source": [
        "epochs=1500"
      ],
      "metadata": {
        "id": "6VV_0aTmw_kf"
      },
      "execution_count": null,
      "outputs": []
    },
    {
      "cell_type": "code",
      "source": [
        "fitness_history_mean,fitness_history_max=[],[]\n",
        "\n",
        "# Get init fitness of the population\n",
        "fit_value = fitness_function(env, agent, pop)\n",
        "\n",
        "prev_fitness = fit_value\n",
        "prev_pop = pop\n",
        "\n",
        "\n",
        "# Main loop\n",
        "for epoch in range(epochs):\n",
        "    \n",
        "    #create new pop list\n",
        "    new_pop=[]\n",
        "    new_pop=np.copy(pop)\n",
        "\n",
        "    #selection\n",
        "    winner_index,loser_index = selection(pop, fit_value,k)  \n",
        "    \n",
        "    #crossover\n",
        "    new_loser= crossover(pop[winner_index],pop[loser_index], pc)\n",
        "\n",
        "    #replace \n",
        "    new_pop[loser_index]=new_loser\n",
        "    pop=new_pop\n",
        "    \n",
        "    #mutation\n",
        "    mutation(pop[loser_index], pm)\n",
        "    \n",
        "  \n",
        "    # Score best solution\n",
        "    fit_value = fitness_function(env, agent, pop)\n",
        "    prev_pop = pop\n",
        "    \n",
        "    fmax= np.max(fit_value)\n",
        "    fmean = np.mean(fit_value) \n",
        "    fitness_history_mean.append(fmean)\n",
        "    fitness_history_max.append(fmax)\n",
        "    '''\n",
        "    print('fit of epoch %s' % epoch)\n",
        "    print(fit_value)\n",
        "    '''\n",
        "    \n",
        "    if epoch == 0:\n",
        "      pop1=pop\n",
        "      fit_value1=fit_value\n",
        "    if epoch == 500:\n",
        "      pop2=pop\n",
        "      fit_value2=fit_value\n",
        "    if epoch == 999:\n",
        "      pop3=pop\n",
        "      fit_value3=fit_value\n",
        "\n",
        "    if epoch % 100 == 0:\n",
        "      print(f\"Mean fitness of population {fmean}\")\n",
        "      print(f\"Max fitness of population {fmax}\")"
      ],
      "metadata": {
        "colab": {
          "base_uri": "https://localhost:8080/"
        },
        "id": "ec_7ulD9xAlA",
        "outputId": "1fe275b4-1e69-4632-a195-522b4d8a1d2c"
      },
      "execution_count": null,
      "outputs": [
        {
          "output_type": "stream",
          "name": "stdout",
          "text": [
            "Mean fitness of population 18.26\n",
            "Max fitness of population 270.0\n",
            "Mean fitness of population 32.6\n",
            "Max fitness of population 279.0\n",
            "Mean fitness of population 73.32\n",
            "Max fitness of population 283.0\n",
            "Mean fitness of population 97.9\n",
            "Max fitness of population 285.0\n",
            "Mean fitness of population 108.12\n",
            "Max fitness of population 284.0\n",
            "Mean fitness of population 127.0\n",
            "Max fitness of population 280.0\n",
            "Mean fitness of population 135.58\n",
            "Max fitness of population 316.0\n",
            "Mean fitness of population 146.4\n",
            "Max fitness of population 329.0\n",
            "Mean fitness of population 184.88\n",
            "Max fitness of population 326.0\n",
            "Mean fitness of population 181.06\n",
            "Max fitness of population 336.0\n",
            "Mean fitness of population 186.52\n",
            "Max fitness of population 329.0\n",
            "Mean fitness of population 215.96\n",
            "Max fitness of population 345.0\n",
            "Mean fitness of population 220.84\n",
            "Max fitness of population 500.0\n",
            "Mean fitness of population 230.78\n",
            "Max fitness of population 500.0\n",
            "Mean fitness of population 244.82\n",
            "Max fitness of population 500.0\n"
          ]
        }
      ]
    },
    {
      "cell_type": "code",
      "source": [
        "plt.plot(list(range(epochs)),fitness_history_mean, label = 'Mean Fitness')\n",
        "plt.plot(list(range(epochs)),fitness_history_max, label = 'Max Fitness')\n",
        "plt.legend()\n",
        "plt.title('Figure1. reword through the epochs')\n",
        "plt.xlabel('epochs')\n",
        "plt.ylabel('reward')\n",
        "plt.show()"
      ],
      "metadata": {
        "colab": {
          "base_uri": "https://localhost:8080/",
          "height": 295
        },
        "id": "wappcboIyIe_",
        "outputId": "c007876d-55b9-4504-d5ab-0c4801b291d9"
      },
      "execution_count": null,
      "outputs": [
        {
          "output_type": "display_data",
          "data": {
            "text/plain": [
              "<Figure size 432x288 with 1 Axes>"
            ],
            "image/png": "[encoded data removed]"
          },
          "metadata": {
            "needs_background": "light"
          }
        }
      ]
    },
    {
      "cell_type": "code",
      "source": [
        "# Visualise our agent\n",
        "best_gene = get_best_gene(pop, fit_value)\n",
        "agent.set_genes(best_gene)\n",
        "visual_episode(env, agent)"
      ],
      "metadata": {
        "colab": {
          "base_uri": "https://localhost:8080/",
          "height": 298
        },
        "id": "f70U_j8zyKaB",
        "outputId": "8ecc5516-1c64-4c61-bdcb-00dce62b069e"
      },
      "execution_count": null,
      "outputs": [
        {
          "output_type": "execute_result",
          "data": {
            "text/plain": [
              "500.0"
            ]
          },
          "metadata": {},
          "execution_count": 26
        },
        {
          "output_type": "display_data",
          "data": {
            "text/plain": [
              "<Figure size 432x288 with 1 Axes>"
            ],
            "image/png": "[encoded data removed]"
          },
          "metadata": {
            "needs_background": "light"
          }
        }
      ]
    },
    {
      "cell_type": "code",
      "source": [
        "def visual_episode2(env, agent=None):\n",
        "    \n",
        "    obs_velocity,obs_angle=[],[]\n",
        "\n",
        "    \n",
        "    tot_reward = 0.0\n",
        "    obs = env.reset()\n",
        "    done = False\n",
        "    curr_t = 0\n",
        "    while not done:\n",
        "        if agent is not None:\n",
        "            action = agent.get_action(obs)\n",
        "        else:\n",
        "            action = env.action_space.sample()\n",
        "        obs, reward, done, info = env.step(action)\n",
        "        \n",
        "        obs_velocity.append(obs[1])\n",
        "        obs_angle.append(obs[2])\n",
        "\n",
        "        screen = env.render(mode='rgb_array')\n",
        "        tot_reward = tot_reward + reward\n",
        "\n",
        "        curr_t = curr_t + 1\n",
        "\n",
        "\n",
        "\n",
        "    plt.plot(obs_velocity, label = 'velocity')\n",
        "    plt.plot(obs_angle, label = 'angle')\n",
        "    plt.legend()\n",
        "    plt.title('velocity and angle through the times')\n",
        "    plt.xlabel('times')\n",
        "    plt.ylabel('obs')\n",
        "    plt.show()\n",
        "    \n",
        "    env.close()\n",
        "    return tot_reward"
      ],
      "metadata": {
        "id": "h5ZGzhSIXz59"
      },
      "execution_count": null,
      "outputs": []
    },
    {
      "cell_type": "code",
      "source": [
        "visual_episode2(env)"
      ],
      "metadata": {
        "colab": {
          "base_uri": "https://localhost:8080/",
          "height": 312
        },
        "id": "mAm3K2n7X23G",
        "outputId": "9f22fb84-cfbc-4118-991c-60aa5598fc3d"
      },
      "execution_count": null,
      "outputs": [
        {
          "output_type": "display_data",
          "data": {
            "text/plain": [
              "<Figure size 432x288 with 1 Axes>"
            ],
            "image/png": "[encoded data removed]"
          },
          "metadata": {
            "needs_background": "light"
          }
        },
        {
          "output_type": "execute_result",
          "data": {
            "text/plain": [
              "30.0"
            ]
          },
          "metadata": {},
          "execution_count": 28
        }
      ]
    },
    {
      "cell_type": "code",
      "source": [
        "# Visualise our agent fed with the best gene of from the first population \n",
        "best_gene = get_best_gene(pop1, fit_value1)\n",
        "agent.set_genes(best_gene)\n",
        "visual_episode2(env, agent)\n",
        "save_vis(env, agent)"
      ],
      "metadata": {
        "colab": {
          "base_uri": "https://localhost:8080/",
          "height": 312
        },
        "id": "zxSpHsppX5ky",
        "outputId": "a9047a91-9bef-474d-c69a-c78c37b7844b"
      },
      "execution_count": null,
      "outputs": [
        {
          "output_type": "display_data",
          "data": {
            "text/plain": [
              "<Figure size 432x288 with 1 Axes>"
            ],
            "image/png": "[encoded data removed]"
          },
          "metadata": {
            "needs_background": "light"
          }
        },
        {
          "output_type": "execute_result",
          "data": {
            "text/plain": [
              "277.0"
            ]
          },
          "metadata": {},
          "execution_count": 29
        }
      ]
    }
  ],
  "metadata": {
    "colab": {
      "collapsed_sections": [],
      "name": " AIAB_lab3 Portfolio.ipynb",
      "provenance": []
    },
    "kernelspec": {
      "display_name": "Python 3",
      "name": "python3"
    }
  },
  "nbformat": 4,
  "nbformat_minor": 0
}